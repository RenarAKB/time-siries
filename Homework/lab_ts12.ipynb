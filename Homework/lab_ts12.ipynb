{
 "cells": [
  {
   "cell_type": "code",
   "execution_count": 1,
   "id": "67de59e1",
   "metadata": {},
   "outputs": [],
   "source": [
    "import pandas as pd\n",
    "import matplotlib.pyplot  as plt\n",
    "import os"
   ]
  },
  {
   "cell_type": "code",
   "execution_count": 2,
   "id": "9bab707d",
   "metadata": {},
   "outputs": [],
   "source": [
    "data = pd.read_csv(\"data/iiot_30min_norm.csv\")"
   ]
  },
  {
   "cell_type": "code",
   "execution_count": 3,
   "id": "d3091562",
   "metadata": {},
   "outputs": [],
   "source": [
    "def data_split(ts, train_percentage=0.67):\n",
    "    timeseries = ts\n",
    "    train_size = int(len(timeseries) * train_percentage)\n",
    "    train, test = timeseries[:train_size], timeseries[train_size:]\n",
    "    return train, test"
   ]
  },
  {
   "cell_type": "code",
   "execution_count": 4,
   "id": "2ede5ab6",
   "metadata": {},
   "outputs": [],
   "source": [
    "ts = data[\"FM1\"].to_numpy()"
   ]
  },
  {
   "cell_type": "code",
   "execution_count": 5,
   "id": "37124dbe",
   "metadata": {},
   "outputs": [],
   "source": [
    "main_data, validate_data = data_split(ts,0.8)"
   ]
  },
  {
   "cell_type": "code",
   "execution_count": 6,
   "id": "ab40bfba",
   "metadata": {},
   "outputs": [],
   "source": [
    "train, test = data_split(main_data,0.8)"
   ]
  },
  {
   "cell_type": "code",
   "execution_count": 7,
   "id": "aea14b92",
   "metadata": {},
   "outputs": [],
   "source": [
    "import torch\n",
    " \n",
    "def create_dataset(dataset, lookback):\n",
    "    \"\"\"Transform a time series into a prediction dataset\n",
    "    \n",
    "    Args:\n",
    "        dataset: A numpy array of time series, first dimension is the time steps\n",
    "        lookback: Size of window for prediction\n",
    "    \"\"\"\n",
    "    X, y = [], []\n",
    "    for i in range(len(dataset)-lookback):\n",
    "        feature = dataset[i:i+lookback]\n",
    "        target = dataset[i+1:i+lookback+1]\n",
    "        X.append(feature)\n",
    "        y.append(target)\n",
    "    return torch.tensor(X), torch.tensor(y)"
   ]
  },
  {
   "cell_type": "code",
   "execution_count": 8,
   "id": "93d1cde1",
   "metadata": {},
   "outputs": [
    {
     "name": "stderr",
     "output_type": "stream",
     "text": [
      "C:\\Users\\79223\\AppData\\Local\\Temp\\ipykernel_16744\\2861746758.py:16: UserWarning: Creating a tensor from a list of numpy.ndarrays is extremely slow. Please consider converting the list to a single numpy.ndarray with numpy.array() before converting to a tensor. (Triggered internally at ..\\torch\\csrc\\utils\\tensor_new.cpp:278.)\n",
      "  return torch.tensor(X), torch.tensor(y)\n"
     ]
    }
   ],
   "source": [
    "lookback = 1\n",
    "X_train, y_train = create_dataset(train, lookback=lookback)\n",
    "X_test, y_test = create_dataset(test, lookback=lookback)"
   ]
  },
  {
   "cell_type": "code",
   "execution_count": 9,
   "id": "32aaa3e6",
   "metadata": {},
   "outputs": [],
   "source": [
    "import torch.nn as nn\n",
    " \n",
    "class AirModel(nn.Module):\n",
    "    def __init__(self):\n",
    "        super().__init__()\n",
    "        self.lstm = nn.LSTM(input_size=1, hidden_size=50, num_layers=1, batch_first=True)\n",
    "        self.linear = nn.Linear(50, 1)\n",
    "    def forward(self, x):\n",
    "        x, _ = self.lstm(x)\n",
    "        x = self.linear(x)\n",
    "        return x"
   ]
  },
  {
   "cell_type": "code",
   "execution_count": 10,
   "id": "21f1a5b7",
   "metadata": {},
   "outputs": [],
   "source": [
    "import numpy as np\n",
    "import torch.optim as optim\n",
    "import torch.utils.data as torch_data\n",
    " \n",
    "model = AirModel()\n",
    "optimizer = optim.Adam(model.parameters())\n",
    "loss_fn = nn.MSELoss()\n",
    "loader = torch_data.DataLoader(torch_data.TensorDataset(X_train, y_train), shuffle=True, batch_size=8)\n",
    "model.double()\n",
    "\n",
    "EPOCHS = 20"
   ]
  },
  {
   "cell_type": "code",
   "execution_count": 11,
   "id": "39e9821b",
   "metadata": {},
   "outputs": [],
   "source": [
    "def train_model(model, X_train, X_test, y_train, y_test, n_epochs):\n",
    "    y_pred_train = None\n",
    "    y_pred_test = None\n",
    "\n",
    "    for epoch in range(n_epochs):\n",
    "        model.train()\n",
    "        for X_batch, y_batch in loader:\n",
    "            y_pred = model(X_batch)\n",
    "            loss = loss_fn(y_pred, y_batch)\n",
    "            optimizer.zero_grad()\n",
    "            loss.backward()\n",
    "            optimizer.step()\n",
    "        # Validation\n",
    "        if epoch % 10 != 0:\n",
    "            continue\n",
    "        model.eval()\n",
    "        with torch.no_grad():\n",
    "            y_pred = model(X_train)\n",
    "            y_pred_train = y_pred\n",
    "            train_rmse = np.sqrt(loss_fn(y_pred, y_train))\n",
    "            y_pred = model(X_test)\n",
    "            y_pred_test = y_pred\n",
    "            test_rmse = np.sqrt(loss_fn(y_pred, y_test))\n",
    "        print(\"Epoch %d: train RMSE %.4f, test RMSE %.4f\" % (epoch, train_rmse, test_rmse))\n",
    "    return y_pred_train, y_pred_test, model"
   ]
  },
  {
   "cell_type": "code",
   "execution_count": 12,
   "id": "1ccb7acf",
   "metadata": {},
   "outputs": [
    {
     "name": "stdout",
     "output_type": "stream",
     "text": [
      "Epoch 0: train RMSE 0.0965, test RMSE 0.0672\n",
      "Epoch 10: train RMSE 0.0691, test RMSE 0.0578\n"
     ]
    }
   ],
   "source": [
    "y_pred_train, y_pred_test, model = train_model(model, X_train, X_test, y_train, y_test, EPOCHS)"
   ]
  },
  {
   "cell_type": "code",
   "execution_count": 13,
   "id": "ee0d7114",
   "metadata": {},
   "outputs": [
    {
     "data": {
      "text/plain": [
       "AirModel(\n",
       "  (lstm): LSTM(1, 50, batch_first=True)\n",
       "  (linear): Linear(in_features=50, out_features=1, bias=True)\n",
       ")"
      ]
     },
     "execution_count": 13,
     "metadata": {},
     "output_type": "execute_result"
    }
   ],
   "source": [
    "model.eval()"
   ]
  },
  {
   "cell_type": "code",
   "execution_count": 14,
   "id": "8df29606",
   "metadata": {},
   "outputs": [],
   "source": [
    "torch.save(model, f\"./data/lstm_forecast_{EPOCHS}_epochs.pth\")"
   ]
  },
  {
   "cell_type": "code",
   "execution_count": 15,
   "id": "62e306f0",
   "metadata": {},
   "outputs": [],
   "source": [
    "import numpy as np\n",
    "from sklearn.metrics import (mean_absolute_error, mean_squared_error,\n",
    "                            r2_score)\n",
    "from math import sqrt\n",
    "\n",
    "def mean_absolute_percentage_error(y_true, y_pred):\n",
    "    return np.mean(np.abs((y_true - y_pred) / y_true)) * 100\n",
    "\n",
    "def validate(true, pred):\n",
    "    true = pd.DataFrame(true.flatten().numpy())[0]\n",
    "    pred = pd.DataFrame(pred.flatten().numpy())[0]\n",
    "    print(\"MSE:\", mean_squared_error(true, pred))\n",
    "    print(\"RMSE:\", sqrt(mean_squared_error(true, pred)))\n",
    "    print(\"MAE:\", mean_absolute_error(true, pred))\n",
    "    print(\"MAPE:\", mean_absolute_percentage_error(true, pred))\n",
    "    print(\"R2:\", r2_score(true, pred))"
   ]
  },
  {
   "cell_type": "code",
   "execution_count": 16,
   "id": "a2128e59",
   "metadata": {},
   "outputs": [],
   "source": [
    "def plot_train_n_pred(X_train, X_test, total, model):\n",
    "    with torch.no_grad():\n",
    "    # shift train predictions for plotting\n",
    "        train_plot = np.ones_like(total) * np.nan\n",
    "        y_pred = model(X_train)\n",
    "        y_pred = y_pred[:, -1, :]\n",
    "        train_size = len(X_train)\n",
    "        train_plot[lookback:train_size + 1] = model(X_train)[:, -1, :]\n",
    "        # shift test predictions for plotting\n",
    "        test_plot = np.ones_like(total) * np.nan\n",
    "        test_plot[train_size + lookback:len(total) - 1] = model(X_test)[:, -1, :]\n",
    "\n",
    "    plt.rcParams[\"figure.figsize\"] = [12, 7]\n",
    "    plt.plot(total, c='b')\n",
    "    plt.plot(train_plot, c='r')\n",
    "    plt.plot(test_plot, c='g')\n",
    "    plt.show()"
   ]
  },
  {
   "cell_type": "code",
   "execution_count": 17,
   "id": "5dc596e4",
   "metadata": {},
   "outputs": [],
   "source": [
    "y_pred_train = model(X_train)"
   ]
  },
  {
   "cell_type": "code",
   "execution_count": 18,
   "id": "249253d1",
   "metadata": {},
   "outputs": [
    {
     "name": "stdout",
     "output_type": "stream",
     "text": [
      "Значения метрик на тренеровачных данных\n",
      "MSE: 0.0025099448475483666\n",
      "RMSE: 0.05009934977171227\n",
      "MAE: 0.01759053766328221\n",
      "MAPE: inf\n",
      "R2: 0.8041049792930516\n"
     ]
    }
   ],
   "source": [
    "print(\"Значения метрик на тренеровачных данных\")\n",
    "validate(y_train,y_pred_train.detach())"
   ]
  },
  {
   "cell_type": "code",
   "execution_count": 19,
   "id": "025d7544",
   "metadata": {},
   "outputs": [],
   "source": [
    "y_pred_test = model(X_test)"
   ]
  },
  {
   "cell_type": "code",
   "execution_count": 20,
   "id": "3d594e5b",
   "metadata": {},
   "outputs": [
    {
     "name": "stdout",
     "output_type": "stream",
     "text": [
      "Значения метрик на тестовых данных\n",
      "MSE: 0.00011896919932971677\n",
      "RMSE: 0.010907300276865801\n",
      "MAE: 0.009545193251334355\n",
      "MAPE: 2.7376299613264994\n",
      "R2: 0.7310467990590934\n"
     ]
    }
   ],
   "source": [
    "print(\"Значения метрик на тестовых данных\")\n",
    "validate(y_test,y_pred_test.detach())"
   ]
  },
  {
   "cell_type": "code",
   "execution_count": 21,
   "id": "53cc74bf",
   "metadata": {},
   "outputs": [],
   "source": [
    "X_valid, y_valid = create_dataset(validate_data,1)"
   ]
  },
  {
   "cell_type": "code",
   "execution_count": 22,
   "id": "1ecd7b20",
   "metadata": {},
   "outputs": [],
   "source": [
    "y_pred_valid = model(y_valid)"
   ]
  },
  {
   "cell_type": "code",
   "execution_count": 23,
   "id": "751c8b08",
   "metadata": {},
   "outputs": [
    {
     "name": "stdout",
     "output_type": "stream",
     "text": [
      "Метрики на валидационных данных\n",
      "MSE: 0.0002451025914356422\n",
      "RMSE: 0.01565575266270013\n",
      "MAE: 0.013402531235990925\n",
      "MAPE: 3.5893255216585174\n",
      "R2: 0.9857868133551178\n"
     ]
    }
   ],
   "source": [
    "print(\"Метрики на валидационных данных\")\n",
    "validate(y_valid,y_pred_valid.detach())"
   ]
  },
  {
   "cell_type": "code",
   "execution_count": 24,
   "id": "f7b5d64d",
   "metadata": {},
   "outputs": [
    {
     "data": {
      "text/plain": [
       "<matplotlib.legend.Legend at 0x24f4b58b3d0>"
      ]
     },
     "execution_count": 24,
     "metadata": {},
     "output_type": "execute_result"
    },
    {
     "data": {
      "image/png": "[encoded data removed]",
      "text/plain": [
       "<Figure size 640x480 with 1 Axes>"
      ]
     },
     "metadata": {},
     "output_type": "display_data"
    }
   ],
   "source": [
    "plt.plot(ts,color=\"blue\",label=\"origin\")\n",
    "plt.plot(np.arange(len(y_pred_train.detach())),y_pred_train.detach(),color=\"red\",label=\"train\")\n",
    "plt.plot(np.arange(len(y_pred_train.detach()),len(y_pred_train.detach()) + len(y_pred_test.detach())),y_pred_test.detach(),color=\"green\",label=\"test\")\n",
    "plt.plot(np.arange(len(y_pred_train.detach()) + len(y_pred_test.detach()),len(y_pred_train.detach()) + len(y_pred_test.detach()) + len(y_pred_valid.detach())),y_pred_valid.detach(),color=\"orange\",label=\"valid\")\n",
    "plt.legend()"
   ]
  },
  {
   "cell_type": "code",
   "execution_count": null,
   "id": "f0506970",
   "metadata": {},
   "outputs": [],
   "source": []
  }
 ],
 "metadata": {
  "kernelspec": {
   "display_name": "Python 3 (ipykernel)",
   "language": "python",
   "name": "python3"
  },
  "language_info": {
   "codemirror_mode": {
    "name": "ipython",
    "version": 3
   },
   "file_extension": ".py",
   "mimetype": "text/x-python",
   "name": "python",
   "nbconvert_exporter": "python",
   "pygments_lexer": "ipython3",
   "version": "3.11.4"
  }
 },
 "nbformat": 4,
 "nbformat_minor": 5
}
